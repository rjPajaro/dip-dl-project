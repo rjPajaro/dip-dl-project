{
 "cells": [
  {
   "cell_type": "code",
   "execution_count": null,
   "metadata": {},
   "outputs": [],
   "source": [
    "import os\n",
    "import cv2\n",
    "import glob\n",
    "import keras\n",
    "from keras.utils.image_utils import img_to_array, array_to_img, load_img\n",
    "from keras.preprocessing.image import ImageDataGenerator"
   ]
  },
  {
   "cell_type": "code",
   "execution_count": null,
   "metadata": {},
   "outputs": [],
   "source": [
    "#STARE\n",
    "img_dir = '../data/STARE' #orginal directory\n",
    "aug_dir = '../data/Augmented Images' #augmented directory\n",
    "data_path = os.path.join(img_dir,'*g')\n",
    "\n",
    "files = glob.glob(data_path) #error @ rgb_img when removing glob.glob dunno y\n",
    "data = []\n",
    "for f1 in files:\n",
    "    img = cv2.imread(f1) #read img\n",
    "    rgb_img = cv2.cvtColor(img, cv2.COLOR_BGR2RGB) #convert BGR img to RGB (depends)\n",
    "    data.append(rgb_img) \n",
    "\n",
    "    x = img_to_array(rgb_img)  \n",
    "    x = x.reshape((1,) + x.shape)  \n",
    "\n",
    "    path, dirs, files = next(os.walk(img_dir))\n",
    "    file_count = len(files)\n",
    "\n",
    "    datagen = ImageDataGenerator(horizontal_flip = True)\n",
    "\n",
    "    i = 0\n",
    "    for batch in datagen.flow(x, batch_size = 1, save_to_dir = aug_dir, save_prefix = 'STARE_Augment', save_format = 'jpg'):\n",
    "        i += 1\n",
    "        if i == 1:\n",
    "            break  "
   ]
  }
 ],
 "metadata": {
  "kernelspec": {
   "display_name": "Python 3.10.7 64-bit",
   "language": "python",
   "name": "python3"
  },
  "language_info": {
   "codemirror_mode": {
    "name": "ipython",
    "version": 3
   },
   "file_extension": ".py",
   "mimetype": "text/x-python",
   "name": "python",
   "nbconvert_exporter": "python",
   "pygments_lexer": "ipython3",
   "version": "3.10.7"
  },
  "orig_nbformat": 4,
  "vscode": {
   "interpreter": {
    "hash": "73eacb67b8055eaec7fe2ec95715e2b8f6137607a05032e980670c2be9c4e5ce"
   }
  }
 },
 "nbformat": 4,
 "nbformat_minor": 2
}
