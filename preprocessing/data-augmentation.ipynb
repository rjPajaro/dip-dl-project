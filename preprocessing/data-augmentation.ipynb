{
 "cells": [
  {
   "cell_type": "code",
   "execution_count": 1,
   "metadata": {},
   "outputs": [],
   "source": [
    "import os\n",
    "import cv2\n",
    "import glob\n",
    "import keras\n",
    "from keras.utils.image_utils import img_to_array, array_to_img, load_img\n",
    "from keras.preprocessing.image import ImageDataGenerator"
   ]
  },
  {
   "cell_type": "code",
   "execution_count": 12,
   "metadata": {},
   "outputs": [],
   "source": [
    "#STARE\n",
    "img_dir = '../data/filtered-data/ODIR/Pure AMD' #orginal directory\n",
    "aug_dir = '../data/filtered-data/ODIR/Pure AMD/Augmented' #augmented directory\n",
    "data_path = os.path.join(img_dir,'*g')\n",
    "\n",
    "files = glob.glob(data_path) #error @ rgb_img when removing glob.glob dunno y\n",
    "data = []\n",
    "for f1 in files:\n",
    "    img = cv2.imread(f1) #read img\n",
    "    rgb_img = cv2.cvtColor(img, cv2.COLOR_BGR2RGB) #convert BGR img to RGB (depends)\n",
    "    data.append(rgb_img) \n",
    "\n",
    "    x = img_to_array(rgb_img)  \n",
    "    x = x.reshape((1,) + x.shape)  \n",
    "\n",
    "    path, dirs, files = next(os.walk(img_dir))\n",
    "    file_count = len(files)\n",
    "\n",
    "    datagen = ImageDataGenerator(horizontal_flip = True)\n",
    "\n",
    "    i = 0\n",
    "    for batch in datagen.flow(x, batch_size = 1, save_to_dir = aug_dir, save_prefix = 'ODIR_Augment', save_format = 'jpg'):\n",
    "        i += 1\n",
    "        if i == 1:\n",
    "            break  "
   ]
  },
  {
   "cell_type": "markdown",
   "metadata": {},
   "source": [
    "# Red Channel Extraction"
   ]
  },
  {
   "cell_type": "code",
   "execution_count": 2,
   "metadata": {},
   "outputs": [],
   "source": [
    "import numpy as np"
   ]
  },
  {
   "cell_type": "code",
   "execution_count": 13,
   "metadata": {},
   "outputs": [],
   "source": [
    "import os\n",
    "from os import listdir\n",
    " \n",
    "# get the path or directory\n",
    "img_dir = \"../data/filtered-data/ODIR/Pure AMD\"\n",
    "red_dir = '../data/filtered-data/ODIR/Pure AMD/Red Channel Extract'\n",
    "\n",
    "if not os.path.exists(red_dir):\n",
    "    os.mkdir(red_dir)\n",
    "\n",
    "datagen = ImageDataGenerator(horizontal_flip = True)\n",
    "\n",
    "i = 0\n",
    "for images in os.listdir(img_dir): \n",
    "    # check if the image ends with png or jpg or jpeg\n",
    "    if (images.endswith(\".png\") or images.endswith(\".jpg\")\\\n",
    "        or images.endswith(\".jpeg\")):\n",
    "        img = cv2.imread(img_dir + \"/\" + images)\n",
    "        r, g, b = cv2.split(img)\n",
    "        path = os.path.join(red_dir, \"ODIR_RedChannel_\" + str(i) + \".jpg\")\n",
    "        cv2.imwrite(path , r)\n",
    "        i+=1\n",
    "        \n",
    "\n"
   ]
  }
 ],
 "metadata": {
  "kernelspec": {
   "display_name": "Python 3.9.12 ('base')",
   "language": "python",
   "name": "python3"
  },
  "language_info": {
   "codemirror_mode": {
    "name": "ipython",
    "version": 3
   },
   "file_extension": ".py",
   "mimetype": "text/x-python",
   "name": "python",
   "nbconvert_exporter": "python",
   "pygments_lexer": "ipython3",
   "version": "3.9.12"
  },
  "orig_nbformat": 4,
  "vscode": {
   "interpreter": {
    "hash": "958b22caee2cb0ccb656ab37bd85ad373cd98d377de0a0db81d7ef881a779b94"
   }
  }
 },
 "nbformat": 4,
 "nbformat_minor": 2
}
