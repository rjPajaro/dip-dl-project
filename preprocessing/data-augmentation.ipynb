{
 "cells": [
  {
   "cell_type": "code",
   "execution_count": 1,
   "metadata": {},
   "outputs": [],
   "source": [
    "import os\n",
    "import cv2\n",
    "import glob\n",
    "import keras\n",
    "from keras.utils.image_utils import img_to_array, array_to_img, load_img\n",
    "from keras.preprocessing.image import ImageDataGenerator"
   ]
  },
  {
   "cell_type": "code",
   "execution_count": 2,
   "metadata": {},
   "outputs": [
    {
     "name": "stdout",
     "output_type": "stream",
     "text": [
      "230\n"
     ]
    }
   ],
   "source": [
    "#STARE\n",
    "img_dir = '../data/filtered-data/STARE/AMD w others' #orginal directory\n",
    "aug_dir = '../data/augmented-data/STARE/AMD w others' #augmented directory\n",
    "data_path = os.path.join(img_dir,'*g')\n",
    "\n",
    "files = glob.glob(data_path)\n",
    "\n",
    "for f1 in files:\n",
    "    img = cv2.imread(f1) #read img\n",
    "    f, e = os.path.splitext(f1) # split the file name\n",
    "    fname = f.split('\\\\')[-1] # split to get filename\n",
    "    rgb_img = cv2.cvtColor(img, cv2.COLOR_BGR2RGB) #convert BGR img to RGB (depends)\n",
    "\n",
    "    x = img_to_array(rgb_img)  \n",
    "    x = x.reshape((1,) + x.shape)  \n",
    "\n",
    "    path, dirs, files = next(os.walk(img_dir))\n",
    "    file_count = len(files)\n",
    "\n",
    "    datagen = ImageDataGenerator(horizontal_flip = True)\n",
    "\n",
    "    i = 0\n",
    "    for batch in datagen.flow(x, batch_size = 1, save_to_dir = aug_dir, save_prefix = f'{fname}_Augment', save_format = 'jpg'):\n",
    "        i += 1\n",
    "        if i == 1:\n",
    "            break \n",
    "\n",
    "STARE = os.listdir(aug_dir)\n",
    "number_files = len(STARE)\n",
    "print(number_files)"
   ]
  },
  {
   "cell_type": "code",
   "execution_count": 3,
   "metadata": {},
   "outputs": [
    {
     "name": "stdout",
     "output_type": "stream",
     "text": [
      "129\n"
     ]
    }
   ],
   "source": [
    "#ODIR AMD w others\n",
    "img_dir = '../data/filtered-data/ODIR/AMD w others' #orginal directory\n",
    "aug_dir = '../data/augmented-data/ODIR/AMD w others' #augmented directory\n",
    "data_path = os.path.join(img_dir,'*g')\n",
    "\n",
    "files = glob.glob(data_path) \n",
    "\n",
    "for f1 in files:\n",
    "    img = cv2.imread(f1) #read img\n",
    "    f, e = os.path.splitext(f1) # split the file name\n",
    "    fname = f.split('\\\\')[-1] # split to get filename\n",
    "    rgb_img = cv2.cvtColor(img, cv2.COLOR_BGR2RGB) #convert BGR img to RGB (depends)\n",
    "\n",
    "    x = img_to_array(rgb_img)  \n",
    "    x = x.reshape((1,) + x.shape)  \n",
    "\n",
    "    path, dirs, files = next(os.walk(img_dir))\n",
    "    file_count = len(files)\n",
    "\n",
    "    datagen = ImageDataGenerator(horizontal_flip = True)\n",
    "\n",
    "    i = 0\n",
    "    for batch in datagen.flow(x, batch_size = 1, save_to_dir = aug_dir, save_prefix = f'{fname}_Augment', save_format = 'jpg'):\n",
    "        i += 1\n",
    "        if i == 1:\n",
    "            break \n",
    "\n",
    "OAO = os.listdir(aug_dir)\n",
    "number_files = len(OAO)\n",
    "print(number_files)"
   ]
  },
  {
   "cell_type": "code",
   "execution_count": 4,
   "metadata": {},
   "outputs": [
    {
     "name": "stdout",
     "output_type": "stream",
     "text": [
      "1186\n"
     ]
    }
   ],
   "source": [
    "#ODIR Pure AMD\n",
    "img_dir = '../data/filtered-data/ODIR/Pure AMD' #orginal directory\n",
    "aug_dir = '../data/augmented-data/ODIR/Pure AMD' #augmented directory\n",
    "data_path = os.path.join(img_dir,'*g')\n",
    "\n",
    "files = glob.glob(data_path) \n",
    "\n",
    "for f1 in files:\n",
    "    img = cv2.imread(f1) #read img\n",
    "    f, e = os.path.splitext(f1) # split the file name\n",
    "    fname = f.split('\\\\')[-1] # split to get filename\n",
    "    rgb_img = cv2.cvtColor(img, cv2.COLOR_BGR2RGB) #convert BGR img to RGB (depends)\n",
    "\n",
    "    x = img_to_array(rgb_img)  \n",
    "    x = x.reshape((1,) + x.shape)  \n",
    "\n",
    "    path, dirs, files = next(os.walk(img_dir))\n",
    "    file_count = len(files)\n",
    "\n",
    "    datagen = ImageDataGenerator(horizontal_flip = True)\n",
    "\n",
    "    i = 0\n",
    "    for batch in datagen.flow(x, batch_size = 1, save_to_dir = aug_dir, save_prefix = f'{fname}_Augment', save_format = 'jpg'):\n",
    "        i += 1\n",
    "        if i == 1:\n",
    "            break \n",
    "\n",
    "OPA = os.listdir(aug_dir)\n",
    "number_files = len(OPA)\n",
    "print(number_files)"
   ]
  },
  {
   "cell_type": "code",
   "execution_count": 5,
   "metadata": {},
   "outputs": [
    {
     "name": "stdout",
     "output_type": "stream",
     "text": [
      "396\n"
     ]
    }
   ],
   "source": [
    "#RFMiD AMD w others\n",
    "img_dir = '../data/filtered-data/RFMiD/AMD w others' #orginal directory\n",
    "aug_dir = '../data/augmented-data/RFMiD/AMD w others' #augmented directory\n",
    "data_path = os.path.join(img_dir,'*g')\n",
    "\n",
    "files = glob.glob(data_path) \n",
    "\n",
    "for f1 in files:\n",
    "    img = cv2.imread(f1) #read img\n",
    "    f, e = os.path.splitext(f1) # split the file name\n",
    "    fname = f.split('\\\\')[-1] # split to get filename\n",
    "    rgb_img = cv2.cvtColor(img, cv2.COLOR_BGR2RGB) #convert BGR img to RGB (depends)\n",
    "\n",
    "    x = img_to_array(rgb_img)  \n",
    "    x = x.reshape((1,) + x.shape)  \n",
    "\n",
    "    path, dirs, files = next(os.walk(img_dir))\n",
    "    file_count = len(files)\n",
    "\n",
    "    datagen = ImageDataGenerator(horizontal_flip = True)\n",
    "\n",
    "    i = 0\n",
    "    for batch in datagen.flow(x, batch_size = 1, save_to_dir = aug_dir, save_prefix = f'{fname}_Augment', save_format = 'jpg'):\n",
    "        i += 1\n",
    "        if i == 1:\n",
    "            break \n",
    "\n",
    "RAO = os.listdir(aug_dir)\n",
    "number_files = len(RAO)\n",
    "print(number_files)"
   ]
  },
  {
   "cell_type": "code",
   "execution_count": 6,
   "metadata": {},
   "outputs": [
    {
     "name": "stdout",
     "output_type": "stream",
     "text": [
      "204\n"
     ]
    }
   ],
   "source": [
    "#RFMiD Pure AMD\n",
    "img_dir = '../data/filtered-data/RFMiD/Pure AMD' #orginal directory\n",
    "aug_dir = '../data/augmented-data/RFMiD/Pure AMD' #augmented directory\n",
    "data_path = os.path.join(img_dir, '*g')\n",
    "\n",
    "files = glob.glob(data_path) \n",
    "\n",
    "for f1 in files:\n",
    "    img = cv2.imread(f1) #read img\n",
    "    f, e = os.path.splitext(f1) # split the file name\n",
    "    fname = f.split('\\\\')[-1] # split to get filename\n",
    "    rgb_img = cv2.cvtColor(img, cv2.COLOR_BGR2RGB) #convert BGR img to RGB (depends)\n",
    "\n",
    "    x = img_to_array(rgb_img)  \n",
    "    x = x.reshape((1,) + x.shape)  \n",
    "\n",
    "    path, dirs, files = next(os.walk(img_dir))\n",
    "    file_count = len(files)\n",
    "\n",
    "    datagen = ImageDataGenerator(horizontal_flip = True)\n",
    "\n",
    "    i = 0\n",
    "    for batch in datagen.flow(x, batch_size = 1, save_to_dir = aug_dir, save_prefix = f'{fname}_Augment', save_format = 'jpg'):\n",
    "        i += 1\n",
    "        if i == 1:\n",
    "            break \n",
    "\n",
    "RPA = os.listdir(aug_dir)\n",
    "number_files = len(RPA)\n",
    "print(number_files)"
   ]
  },
  {
   "cell_type": "code",
   "execution_count": 7,
   "metadata": {},
   "outputs": [
    {
     "name": "stdout",
     "output_type": "stream",
     "text": [
      "401\n"
     ]
    }
   ],
   "source": [
    "aug_dir = '../data/filtered-data/RFMiD/Normal'\n",
    "RN = os.listdir(aug_dir)\n",
    "number_files = len(RN)\n",
    "print(number_files)"
   ]
  },
  {
   "cell_type": "code",
   "execution_count": 8,
   "metadata": {},
   "outputs": [
    {
     "name": "stdout",
     "output_type": "stream",
     "text": [
      "2002\n"
     ]
    }
   ],
   "source": [
    "aug_dir = '../data/filtered-data/ODIR/Normal'\n",
    "ON = os.listdir(aug_dir)\n",
    "number_files = len(ON)\n",
    "print(number_files)"
   ]
  },
  {
   "cell_type": "code",
   "execution_count": 9,
   "metadata": {},
   "outputs": [
    {
     "name": "stdout",
     "output_type": "stream",
     "text": [
      "40\n"
     ]
    }
   ],
   "source": [
    "aug_dir = '../data/filtered-data/STARE/Normal'\n",
    "SN = os.listdir(aug_dir)\n",
    "number_files = len(SN)\n",
    "print(number_files)"
   ]
  },
  {
   "cell_type": "code",
   "execution_count": 11,
   "metadata": {},
   "outputs": [
    {
     "name": "stdout",
     "output_type": "stream",
     "text": [
      "Number of Pure AMD Images:  1390\n",
      "Number of AMD Images with other diseases:  1390\n",
      "Number of Normal Images:  2443\n"
     ]
    }
   ],
   "source": [
    "AMDwO_Sum = len(RAO) + len(OAO) + len(STARE)\n",
    "PureAMD_Sum = len(RPA) + len(OPA)\n",
    "NormalSum = len(RN) + len(ON) + len(SN)\n",
    "print('Number of Pure AMD Images: ', PureAMD_Sum)\n",
    "print('Number of AMD Images with other diseases: ', PureAMD_Sum)\n",
    "print('Number of Normal Images: ', NormalSum)"
   ]
  }
 ],
 "metadata": {
  "kernelspec": {
   "display_name": "Python 3.10.7 64-bit",
   "language": "python",
   "name": "python3"
  },
  "language_info": {
   "codemirror_mode": {
    "name": "ipython",
    "version": 3
   },
   "file_extension": ".py",
   "mimetype": "text/x-python",
   "name": "python",
   "nbconvert_exporter": "python",
   "pygments_lexer": "ipython3",
   "version": "3.10.7"
  },
  "orig_nbformat": 4,
  "vscode": {
   "interpreter": {
    "hash": "73eacb67b8055eaec7fe2ec95715e2b8f6137607a05032e980670c2be9c4e5ce"
   }
  }
 },
 "nbformat": 4,
 "nbformat_minor": 2
}
