{
 "cells": [
  {
   "cell_type": "code",
   "execution_count": 10,
   "metadata": {},
   "outputs": [],
   "source": [
    "img_name = 'pa.jpg'\n",
    "mask_name = 'pa_masked.png'\n",
    "hsv_name = 'pa_hsv.png'"
   ]
  },
  {
   "cell_type": "code",
   "execution_count": 11,
   "metadata": {},
   "outputs": [
    {
     "ename": "error",
     "evalue": "OpenCV(4.6.0) D:\\a\\opencv-python\\opencv-python\\opencv\\modules\\imgproc\\src\\resize.cpp:4052: error: (-215:Assertion failed) !ssize.empty() in function 'cv::resize'\n",
     "output_type": "error",
     "traceback": [
      "\u001b[1;31m---------------------------------------------------------------------------\u001b[0m",
      "\u001b[1;31merror\u001b[0m                                     Traceback (most recent call last)",
      "\u001b[1;32mc:\\Users\\mackr\\Desktop\\thesisProgram\\dip-dl-project\\preprocessing\\masking.ipynb Cell 2\u001b[0m in \u001b[0;36m<cell line: 11>\u001b[1;34m()\u001b[0m\n\u001b[0;32m      <a href='vscode-notebook-cell:/c%3A/Users/mackr/Desktop/thesisProgram/dip-dl-project/preprocessing/masking.ipynb#W3sZmlsZQ%3D%3D?line=8'>9</a>\u001b[0m \u001b[39m#image\u001b[39;00m\n\u001b[0;32m     <a href='vscode-notebook-cell:/c%3A/Users/mackr/Desktop/thesisProgram/dip-dl-project/preprocessing/masking.ipynb#W3sZmlsZQ%3D%3D?line=9'>10</a>\u001b[0m im \u001b[39m=\u001b[39m cv2\u001b[39m.\u001b[39mimread(img_name)\n\u001b[1;32m---> <a href='vscode-notebook-cell:/c%3A/Users/mackr/Desktop/thesisProgram/dip-dl-project/preprocessing/masking.ipynb#W3sZmlsZQ%3D%3D?line=10'>11</a>\u001b[0m img \u001b[39m=\u001b[39m cv2\u001b[39m.\u001b[39;49mresize(im, (\u001b[39m512\u001b[39;49m, \u001b[39m512\u001b[39;49m))\n\u001b[0;32m     <a href='vscode-notebook-cell:/c%3A/Users/mackr/Desktop/thesisProgram/dip-dl-project/preprocessing/masking.ipynb#W3sZmlsZQ%3D%3D?line=12'>13</a>\u001b[0m \u001b[39m# draw filled circle in white on black background as mask\u001b[39;00m\n\u001b[0;32m     <a href='vscode-notebook-cell:/c%3A/Users/mackr/Desktop/thesisProgram/dip-dl-project/preprocessing/masking.ipynb#W3sZmlsZQ%3D%3D?line=13'>14</a>\u001b[0m mask \u001b[39m=\u001b[39m np\u001b[39m.\u001b[39mzeros_like(img)\n",
      "\u001b[1;31merror\u001b[0m: OpenCV(4.6.0) D:\\a\\opencv-python\\opencv-python\\opencv\\modules\\imgproc\\src\\resize.cpp:4052: error: (-215:Assertion failed) !ssize.empty() in function 'cv::resize'\n"
     ]
    }
   ],
   "source": [
    "# AMD\n",
    "# import the necessary packages\n",
    "import cv2\n",
    "import argparse\n",
    "import PIL.Image\n",
    "import numpy as np\n",
    "import matplotlib as plt\n",
    "\n",
    "#image\n",
    "im = cv2.imread(img_name)\n",
    "img = cv2.resize(im, (512, 512))\n",
    "\n",
    "# draw filled circle in white on black background as mask\n",
    "mask = np.zeros_like(img)\n",
    "mask = cv2.circle(mask, (240, 250), 220, (255, 255, 255), -1)\n",
    "\n",
    "# apply mask to image\n",
    "result = cv2.bitwise_and(img, mask)\n",
    "\n",
    "# save results\n",
    "cv2.imwrite(mask_name, result)\n",
    "\n",
    "cv2.imshow('image', im) # show original image\n",
    "cv2.imshow('mask', mask) # show masked image\n",
    "cv2.imshow('masked image', result) # show image with mask\n",
    "cv2.waitKey(0)\n",
    "cv2.destroyAllWindows()\n",
    "\n",
    "\n",
    "red_image = PIL.Image.open(mask_name) #Create a PIL.Image object.\n",
    "red_image_rgb = red_image.convert(\"RGB\") #Convert to RGB colorspace.\n",
    "rgb_pixel_value = red_image_rgb.getpixel((391, 236)) #Get color from (x, y) coordinates AMD\n",
    "\n",
    "# rgb colors\n",
    "r = rgb_pixel_value[0]\n",
    "g = rgb_pixel_value[1]\n",
    "b = rgb_pixel_value[2]\n",
    "\n",
    "#bgr to hsv\n",
    "color = np.uint8([[[r, g, b]]])\n",
    "hsv_green = cv2.cvtColor(color, cv2.COLOR_BGR2HSV)\n",
    "\n",
    "# hsv color\n",
    "h = hsv_green[0][0][0]\n",
    "s = hsv_green[0][0][1]\n",
    "v = hsv_green[0][0][2]"
   ]
  }
 ],
 "metadata": {
  "kernelspec": {
   "display_name": "Python 3.9.12 ('base')",
   "language": "python",
   "name": "python3"
  },
  "language_info": {
   "codemirror_mode": {
    "name": "ipython",
    "version": 3
   },
   "file_extension": ".py",
   "mimetype": "text/x-python",
   "name": "python",
   "nbconvert_exporter": "python",
   "pygments_lexer": "ipython3",
   "version": "3.9.12"
  },
  "orig_nbformat": 4,
  "vscode": {
   "interpreter": {
    "hash": "958b22caee2cb0ccb656ab37bd85ad373cd98d377de0a0db81d7ef881a779b94"
   }
  }
 },
 "nbformat": 4,
 "nbformat_minor": 2
}
