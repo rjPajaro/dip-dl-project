{
 "cells": [
  {
   "attachments": {},
   "cell_type": "markdown",
   "metadata": {},
   "source": [
    "# Red Channel Extraction & CLAHE"
   ]
  },
  {
   "cell_type": "code",
   "execution_count": 3,
   "metadata": {},
   "outputs": [],
   "source": [
    "import numpy as np\n",
    "import os\n",
    "from os import listdir\n",
    "import cv2\n",
    "import glob\n",
    "import keras\n",
    "from keras.utils.image_utils import img_to_array, array_to_img, load_img\n",
    "from keras.preprocessing.image import ImageDataGenerator"
   ]
  },
  {
   "cell_type": "code",
   "execution_count": 4,
   "metadata": {},
   "outputs": [],
   "source": [
    "train_data = []"
   ]
  },
  {
   "cell_type": "code",
   "execution_count": 5,
   "metadata": {},
   "outputs": [],
   "source": [
    "pure_amd = []\n",
    "normal = []\n",
    "amd_w_others = []"
   ]
  },
  {
   "cell_type": "code",
   "execution_count": 6,
   "metadata": {},
   "outputs": [],
   "source": [
    "def rce_clahe(img_dir, red_dir, data_family, data_class):\n",
    "    if not os.path.exists(red_dir):\n",
    "        os.mkdir(red_dir)\n",
    "\n",
    "    i = 0\n",
    "    for images in os.listdir(img_dir): \n",
    "        # check if the image ends with png or jpg or jpeg\n",
    "        if (images.endswith(\".png\") or images.endswith(\".jpg\")\n",
    "            or images.endswith(\".jpeg\")):\n",
    "            img = cv2.imread(img_dir + \"/\" + images, cv2.IMREAD_UNCHANGED)\n",
    "            resized_img = cv2.resize(img, (512, 512))\n",
    "\n",
    "            # exclude green channel\n",
    "            b,g,r = cv2.split(resized_img)\n",
    "\n",
    "            # apply CLAHE\n",
    "            clahe = cv2.createCLAHE(clipLimit=5)\n",
    "            g_clahe_enhanced = clahe.apply(g) + 50\n",
    "\n",
    "            # merge enhanced channels\n",
    "            clahe_enhanced_img = cv2.merge((b, g_clahe_enhanced, r))\n",
    "\n",
    "            grayscale = cv2.cvtColor(clahe_enhanced_img, cv2.COLOR_BGR2GRAY)\n",
    "\n",
    "            if data_class == 'pure_amd':\n",
    "                pure_amd.append(grayscale)\n",
    "            elif data_class == 'normal':\n",
    "                normal.append(grayscale)\n",
    "            elif data_class == 'amd_w_others':\n",
    "                amd_w_others.append(grayscale)\n",
    "\n",
    "            path = os.path.join(red_dir, \"{}_CLAHE_\".format(data_family) + images.split('.')[0] + \".png\")\n",
    "            cv2.imwrite(path , grayscale)\n",
    "            i+=1"
   ]
  },
  {
   "cell_type": "code",
   "execution_count": 7,
   "metadata": {},
   "outputs": [],
   "source": [
    "rce_clahe('../data/preprocessing/filtered-data/ODIR/Pure AMD', '../data/preprocessing/CLAHE/ODIR/Pure AMD', 'ODIR', 'pure_amd')\n",
    "rce_clahe('../data/preprocessing/filtered-data/ODIR/AMD w others', '../data/preprocessing/CLAHE/ODIR/AMD w others', 'ODIR', 'amd_w_others')\n",
    "rce_clahe('../data/preprocessing/filtered-data/ODIR/Normal', '../data/preprocessing/CLAHE/ODIR/Normal', 'ODIR', 'normal')\n",
    "\n",
    "rce_clahe('../data/preprocessing/filtered-data/RFMiD/Pure AMD', '../data/preprocessing/CLAHE/RFMiD/Pure AMD', 'RFMiD', 'pure_amd')\n",
    "rce_clahe('../data/preprocessing/filtered-data/RFMiD/AMD w others', '../data/preprocessing/CLAHE/RFMiD/AMD w others', 'RFMiD', 'amd_w_others')\n",
    "rce_clahe('../data/preprocessing/filtered-data/RFMiD/Normal', '../data/preprocessing/CLAHE/RFMiD/Normal', 'RFMiD', 'normal')\n",
    "\n",
    "rce_clahe('../data/preprocessing/filtered-data/RFMiD/Testing/Pure AMD', '../data/preprocessing/CLAHE/RFMiD/Validation/Pure AMD', 'RFMiD', 'pure_amd')\n",
    "rce_clahe('../data/preprocessing/filtered-data/RFMiD/Testing/AMD w others', '../data/preprocessing/CLAHE/RFMiD/Validation/AMD w others', 'RFMiD', 'amd_w_others')\n",
    "rce_clahe('../data/preprocessing/filtered-data/RFMiD/Testing/Normal', '../data/preprocessing/CLAHE/RFMiD/Validation/Normal', 'RFMiD', 'normal')\n",
    "rce_clahe('../data/preprocessing/filtered-data/RFMiD/Validation/Pure AMD', '../data/preprocessing/CLAHE/RFMiD/Validation/Pure AMD', 'RFMiD', 'pure_amd')\n",
    "rce_clahe('../data/preprocessing/filtered-data/RFMiD/Validation/AMD w others', '../data/preprocessing/CLAHE/RFMiD/Validation/AMD w others', 'RFMiD', 'amd_w_others')\n",
    "rce_clahe('../data/preprocessing/filtered-data/RFMiD/Validation/Normal', '../data/preprocessing/CLAHE/RFMiD/Validation/Normal', 'RFMiD', 'normal')\n",
    "\n",
    "rce_clahe('../data/preprocessing/filtered-data/STARE/AMD w others', '../data/preprocessing/CLAHE/STARE/AMD w others', 'QSTARE', 'amd_w_others')\n",
    "rce_clahe('../data/preprocessing/filtered-data/STARE/Normal', '../data/preprocessing/CLAHE/STARE/Normal', 'STARE', 'normal')"
   ]
  },
  {
   "cell_type": "code",
   "execution_count": 8,
   "metadata": {},
   "outputs": [],
   "source": [
    "def training_data(img_dir, data_class):\n",
    "    for images in os.listdir(img_dir): \n",
    "        # check if the image ends with png or jpg or jpeg\n",
    "        if (images.endswith(\".png\") or images.endswith(\".jpg\")\\\n",
    "            or images.endswith(\".jpeg\")):\n",
    "            img = cv2.imread(img_dir + \"/\" + images, cv2.IMREAD_UNCHANGED)\n",
    "            resized_img = cv2.resize(img, (512, 512))\n",
    "\n",
    "            # exclude red channel\n",
    "            b,g,r = cv2.split(resized_img)\n",
    "\n",
    "            # apply CLAHE\n",
    "            clahe = cv2.createCLAHE(clipLimit=5)\n",
    "            b_clahe_enhanced = clahe.apply(b) + 30 # increase intensity of contrast\n",
    "            g_clahe_enhanced = clahe.apply(g) + 30\n",
    "            r_clahe_enhanced = clahe.apply(r)\n",
    "\n",
    "            # merge enhanced channels\n",
    "            clahe_enhanced_img = cv2.merge((b_clahe_enhanced, g, r_clahe_enhanced))\n",
    "\n",
    "            grayscale = cv2.cvtColor(clahe_enhanced_img, cv2.COLOR_BGR2GRAY)\n",
    "\n",
    "            if data_class == 'normal':\n",
    "                train_data.append([grayscale, 0])\n",
    "            elif data_class == 'pure_amd':\n",
    "                train_data.append([grayscale, 1])\n",
    "            elif data_class == 'amd_w_others':\n",
    "                train_data.append([grayscale, 2])"
   ]
  },
  {
   "attachments": {},
   "cell_type": "markdown",
   "metadata": {},
   "source": [
    "training_data('../data/preprocessing/filtered-data/ODIR/Pure AMD', 'pure_amd')\n",
    "training_data('../data/preprocessing/filtered-data/ODIR/AMD w others', 'amd_w_others')\n",
    "training_data('../data/preprocessing/filtered-data/ODIR/Normal', 'normal')\n",
    "\n",
    "training_data('../data/preprocessing/filtered-data/RFMiD/Pure AMD', 'pure_amd')\n",
    "training_data('../data/preprocessing/filtered-data/RFMiD/AMD w others', 'amd_w_others')\n",
    "training_data('../data/preprocessing/filtered-data/RFMiD/Normal', 'normal')\n",
    "\n",
    "training_data('../data/preprocessing/filtered-data/STARE/AMD w others', 'amd_w_others')\n",
    "training_data('../data/preprocessing/filtered-data/STARE/Normal', 'normal')"
   ]
  },
  {
   "attachments": {},
   "cell_type": "markdown",
   "metadata": {},
   "source": [
    "import random\n",
    "random.shuffle(train_data)"
   ]
  },
  {
   "attachments": {},
   "cell_type": "markdown",
   "metadata": {},
   "source": [
    "x = []\n",
    "y = []\n",
    "\n",
    "for images, labels in train_data:\n",
    "    x.append(images)\n",
    "    y.append(labels)"
   ]
  },
  {
   "attachments": {},
   "cell_type": "markdown",
   "metadata": {},
   "source": [
    "# Saving Data\n",
    "import pickle\n",
    "\n",
    "pickle_out = open(\"../data/pickles/x.pickle\",\"wb\")\n",
    "pickle.dump(x, pickle_out)\n",
    "pickle_out.close()\n",
    "\n",
    "pickle_out = open(\"../data/pickles/y.pickle\",\"wb\")\n",
    "pickle.dump(y, pickle_out)\n",
    "pickle_out.close()"
   ]
  }
 ],
 "metadata": {
  "kernelspec": {
   "display_name": "base",
   "language": "python",
   "name": "python3"
  },
  "language_info": {
   "codemirror_mode": {
    "name": "ipython",
    "version": 3
   },
   "file_extension": ".py",
   "mimetype": "text/x-python",
   "name": "python",
   "nbconvert_exporter": "python",
   "pygments_lexer": "ipython3",
   "version": "3.10.9"
  },
  "orig_nbformat": 4,
  "vscode": {
   "interpreter": {
    "hash": "958b22caee2cb0ccb656ab37bd85ad373cd98d377de0a0db81d7ef881a779b94"
   }
  }
 },
 "nbformat": 4,
 "nbformat_minor": 2
}
