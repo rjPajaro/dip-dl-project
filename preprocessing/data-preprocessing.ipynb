{
 "cells": [
  {
   "cell_type": "markdown",
   "metadata": {},
   "source": [
    "# Data Augmentation"
   ]
  },
  {
   "cell_type": "code",
   "execution_count": 1,
   "metadata": {},
   "outputs": [],
   "source": [
    "import os\n",
    "import cv2\n",
    "import glob\n",
    "import keras\n",
    "from keras.utils.image_utils import img_to_array, array_to_img, load_img\n",
    "from keras.preprocessing.image import ImageDataGenerator"
   ]
  },
  {
   "cell_type": "code",
   "execution_count": 2,
   "metadata": {},
   "outputs": [],
   "source": [
    "#STARE\n",
    "def data_augmentation():\n",
    "    img_dir = '../data/filtered-data/ODIR/Pure AMD' #orginal directory\n",
    "    aug_dir = '../data/filtered-data/ODIR/Pure AMD/Augmented' #augmented directory\n",
    "    data_path = os.path.join(img_dir,'*g')\n",
    "\n",
    "    files = glob.glob(data_path) #error @ rgb_img when removing glob.glob dunno y\n",
    "    data = []\n",
    "    for f1 in files:\n",
    "        img = cv2.imread(f1) #read img\n",
    "        rgb_img = cv2.cvtColor(img, cv2.COLOR_BGR2RGB) #convert BGR img to RGB (depends)\n",
    "        data.append(rgb_img) \n",
    "\n",
    "        x = img_to_array(rgb_img)  \n",
    "        x = x.reshape((1,) + x.shape)  \n",
    "\n",
    "        path, dirs, files = next(os.walk(img_dir))\n",
    "        file_count = len(files)\n",
    "\n",
    "        datagen = ImageDataGenerator(horizontal_flip = True)\n",
    "\n",
    "        i = 0\n",
    "        for batch in datagen.flow(x, batch_size = 1, save_to_dir = aug_dir, save_prefix = 'ODIR_Augment', save_format = 'jpg'):\n",
    "            i += 1\n",
    "            if i == 1:\n",
    "                break  "
   ]
  },
  {
   "cell_type": "markdown",
   "metadata": {},
   "source": [
    "# Red Channel Extraction & CLAHE"
   ]
  },
  {
   "cell_type": "code",
   "execution_count": 3,
   "metadata": {},
   "outputs": [],
   "source": [
    "import numpy as np\n",
    "import os\n",
    "from os import listdir"
   ]
  },
  {
   "cell_type": "code",
   "execution_count": 64,
   "metadata": {},
   "outputs": [],
   "source": [
    "def rce_clahe(img_dir, red_dir):\n",
    "    if not os.path.exists(red_dir):\n",
    "        os.mkdir(red_dir)\n",
    "\n",
    "    datagen = ImageDataGenerator(horizontal_flip = True)\n",
    "\n",
    "    i = 0\n",
    "    for images in os.listdir(img_dir): \n",
    "        # check if the image ends with png or jpg or jpeg\n",
    "        if (images.endswith(\".png\") or images.endswith(\".jpg\")\\\n",
    "            or images.endswith(\".jpeg\")):\n",
    "            img = cv2.imread(img_dir + \"/\" + images, cv2.IMREAD_UNCHANGED)\n",
    "\n",
    "            # exclude red channel\n",
    "            b,g,r = cv2.split(img)\n",
    "\n",
    "            # apply CLAHE\n",
    "            clahe = cv2.createCLAHE(clipLimit=5)\n",
    "            b_clahe_enhanced = clahe.apply(b) + 30 # increase intensity of contrast\n",
    "            g_clahe_enhanced = clahe.apply(g) + 30\n",
    "            r_clahe_enhanced = clahe.apply(r)\n",
    "\n",
    "            # merge enhanced channels\n",
    "            clahe_enhanced_img = cv2.merge((b_clahe_enhanced, g, r_clahe_enhanced))\n",
    "\n",
    "            grayscale = cv2.cvtColor(clahe_enhanced_img, cv2.COLOR_BGR2GRAY)\n",
    "\n",
    "            path = os.path.join(red_dir, \"ODIR_CLAHE_\" + images.split('.')[0] + \".png\")\n",
    "            cv2.imwrite(path , grayscale)\n",
    "            i+=1"
   ]
  },
  {
   "cell_type": "code",
   "execution_count": 67,
   "metadata": {},
   "outputs": [],
   "source": [
    "rce_clahe('../data/preprocessing/filtered-data/ODIR/Pure AMD', '../data/preprocessing/CLAHE/ODIR/Pure AMD')\n",
    "rce_clahe('../data/preprocessing/filtered-data/ODIR/AMD w others', '../data/preprocessing/CLAHE/ODIR/AMD w others')\n",
    "rce_clahe('../data/preprocessing/filtered-data/ODIR/Normal', '../data/preprocessing/CLAHE/ODIR/Normal')"
   ]
  },
  {
   "cell_type": "code",
   "execution_count": null,
   "metadata": {},
   "outputs": [],
   "source": [
    "rce_clahe('../data/preprocessing/filtered-data/RFMiD/Pure AMD', '../data/preprocessing/CLAHE/RFMiD/Pure AMD')\n",
    "rce_clahe('../data/preprocessing/filtered-data/RFMiD/AMD w others', '../data/preprocessing/CLAHE/RFMiD/AMD w others')\n",
    "rce_clahe('../data/preprocessing/filtered-data/RFMiD/Normal', '../data/preprocessing/CLAHE/RFMiD/Normal')"
   ]
  },
  {
   "cell_type": "code",
   "execution_count": null,
   "metadata": {},
   "outputs": [],
   "source": []
  }
 ],
 "metadata": {
  "kernelspec": {
   "display_name": "Python 3.9.12 ('base')",
   "language": "python",
   "name": "python3"
  },
  "language_info": {
   "codemirror_mode": {
    "name": "ipython",
    "version": 3
   },
   "file_extension": ".py",
   "mimetype": "text/x-python",
   "name": "python",
   "nbconvert_exporter": "python",
   "pygments_lexer": "ipython3",
   "version": "3.9.12"
  },
  "orig_nbformat": 4,
  "vscode": {
   "interpreter": {
    "hash": "30cc5ebb6ad8ee3e518e52e243d78f991ae70f3e9050056caf1777ef8d897d96"
   }
  }
 },
 "nbformat": 4,
 "nbformat_minor": 2
}
