{
 "cells": [
  {
   "cell_type": "code",
   "execution_count": 1,
   "metadata": {},
   "outputs": [],
   "source": [
    "import cv2\n",
    "import numpy as np"
   ]
  },
  {
   "cell_type": "code",
   "execution_count": 3,
   "metadata": {},
   "outputs": [],
   "source": [
    "# read input image\n",
    "img = cv2.imread('158_left.jpg')\n",
    "\n",
    "# Convert BGR to HSV\n",
    "hsv = cv2.cvtColor(img, cv2.COLOR_BGR2HSV)\n",
    "\n",
    "# define range of blue color in HSV\n",
    "lower_yellow = np.array([15,50,180])\n",
    "upper_yellow = np.array([40,255,255])\n",
    "\n",
    "# Create a mask. Threshold the HSV image to get only yellow colors\n",
    "mask = cv2.inRange(hsv, lower_yellow, upper_yellow)\n",
    "\n",
    "# Bitwise-AND mask and original image\n",
    "result = cv2.bitwise_and(img,img, mask= mask)\n",
    "\n",
    "# display the mask and masked image\n",
    "cv2.imwrite('Mask.jpg',mask)\n",
    "cv2.waitKey(0)\n",
    "cv2.imwrite('Masked Image.jpg',result)\n",
    "cv2.waitKey(0)\n",
    "cv2.destroyAllWindows()"
   ]
  },
  {
   "cell_type": "code",
   "execution_count": null,
   "metadata": {},
   "outputs": [],
   "source": []
  },
  {
   "cell_type": "code",
   "execution_count": null,
   "metadata": {},
   "outputs": [],
   "source": []
  }
 ],
 "metadata": {
  "kernelspec": {
   "display_name": "anaconda3",
   "language": "python",
   "name": "python3"
  },
  "language_info": {
   "codemirror_mode": {
    "name": "ipython",
    "version": 3
   },
   "file_extension": ".py",
   "mimetype": "text/x-python",
   "name": "python",
   "nbconvert_exporter": "python",
   "pygments_lexer": "ipython3",
   "version": "3.9.12"
  },
  "orig_nbformat": 4,
  "vscode": {
   "interpreter": {
    "hash": "30cc5ebb6ad8ee3e518e52e243d78f991ae70f3e9050056caf1777ef8d897d96"
   }
  }
 },
 "nbformat": 4,
 "nbformat_minor": 2
}
