{
 "cells": [
  {
   "cell_type": "code",
   "execution_count": 34,
   "metadata": {},
   "outputs": [],
   "source": [
    "from getDataFunctions import getStareData, getRFMIDData, getODIRData\n",
    "IMAGE_SIZE = (256,256)"
   ]
  },
  {
   "cell_type": "code",
   "execution_count": 35,
   "metadata": {},
   "outputs": [],
   "source": [
    "#Get All Data\n",
    "stare_AMD_w_others_data, stare_normal_data = getStareData(IMAGE_SIZE)\n",
    "RFMiD_Pure_AMD_data, RFMiD_AMD_w_others_data, RFMiD_normal_data = getRFMIDData(IMAGE_SIZE)\n",
    "ODIR_Pure_AMD_data, ODIR_AMD_w_others_data, ODIR_normal_data = getODIRData(IMAGE_SIZE)\n"
   ]
  },
  {
   "cell_type": "code",
   "execution_count": 36,
   "metadata": {},
   "outputs": [
    {
     "name": "stdout",
     "output_type": "stream",
     "text": [
      "(198, 256, 256, 1)\n"
     ]
    }
   ],
   "source": [
    "print(ODIR_Pure_AMD_data.shape)"
   ]
  },
  {
   "attachments": {},
   "cell_type": "markdown",
   "metadata": {},
   "source": [
    "## U-NET predict Data"
   ]
  },
  {
   "cell_type": "code",
   "execution_count": 37,
   "metadata": {},
   "outputs": [],
   "source": [
    "from keras_unet.models import custom_unet\n",
    "\n",
    "input_shape = stare_AMD_w_others_data[0].shape\n",
    "\n",
    "model = custom_unet(\n",
    "    input_shape,\n",
    "    filters=32,\n",
    "    use_batch_norm=True,\n",
    "    dropout=0.3,\n",
    "    dropout_change_per_layer=0.0,\n",
    "    num_layers=4\n",
    ")\n"
   ]
  },
  {
   "cell_type": "code",
   "execution_count": 38,
   "metadata": {},
   "outputs": [
    {
     "name": "stdout",
     "output_type": "stream",
     "text": [
      "Model: \"model_3\"\n",
      "__________________________________________________________________________________________________\n",
      " Layer (type)                   Output Shape         Param #     Connected to                     \n",
      "==================================================================================================\n",
      " input_4 (InputLayer)           [(None, 256, 256, 1  0           []                               \n",
      "                                )]                                                                \n",
      "                                                                                                  \n",
      " conv2d_57 (Conv2D)             (None, 256, 256, 32  288         ['input_4[0][0]']                \n",
      "                                )                                                                 \n",
      "                                                                                                  \n",
      " batch_normalization_54 (BatchN  (None, 256, 256, 32  128        ['conv2d_57[0][0]']              \n",
      " ormalization)                  )                                                                 \n",
      "                                                                                                  \n",
      " spatial_dropout2d_15 (SpatialD  (None, 256, 256, 32  0          ['batch_normalization_54[0][0]'] \n",
      " ropout2D)                      )                                                                 \n",
      "                                                                                                  \n",
      " conv2d_58 (Conv2D)             (None, 256, 256, 32  9216        ['spatial_dropout2d_15[0][0]']   \n",
      "                                )                                                                 \n",
      "                                                                                                  \n",
      " batch_normalization_55 (BatchN  (None, 256, 256, 32  128        ['conv2d_58[0][0]']              \n",
      " ormalization)                  )                                                                 \n",
      "                                                                                                  \n",
      " max_pooling2d_12 (MaxPooling2D  (None, 128, 128, 32  0          ['batch_normalization_55[0][0]'] \n",
      " )                              )                                                                 \n",
      "                                                                                                  \n",
      " conv2d_59 (Conv2D)             (None, 128, 128, 64  18432       ['max_pooling2d_12[0][0]']       \n",
      "                                )                                                                 \n",
      "                                                                                                  \n",
      " batch_normalization_56 (BatchN  (None, 128, 128, 64  256        ['conv2d_59[0][0]']              \n",
      " ormalization)                  )                                                                 \n",
      "                                                                                                  \n",
      " spatial_dropout2d_16 (SpatialD  (None, 128, 128, 64  0          ['batch_normalization_56[0][0]'] \n",
      " ropout2D)                      )                                                                 \n",
      "                                                                                                  \n",
      " conv2d_60 (Conv2D)             (None, 128, 128, 64  36864       ['spatial_dropout2d_16[0][0]']   \n",
      "                                )                                                                 \n",
      "                                                                                                  \n",
      " batch_normalization_57 (BatchN  (None, 128, 128, 64  256        ['conv2d_60[0][0]']              \n",
      " ormalization)                  )                                                                 \n",
      "                                                                                                  \n",
      " max_pooling2d_13 (MaxPooling2D  (None, 64, 64, 64)  0           ['batch_normalization_57[0][0]'] \n",
      " )                                                                                                \n",
      "                                                                                                  \n",
      " conv2d_61 (Conv2D)             (None, 64, 64, 128)  73728       ['max_pooling2d_13[0][0]']       \n",
      "                                                                                                  \n",
      " batch_normalization_58 (BatchN  (None, 64, 64, 128)  512        ['conv2d_61[0][0]']              \n",
      " ormalization)                                                                                    \n",
      "                                                                                                  \n",
      " spatial_dropout2d_17 (SpatialD  (None, 64, 64, 128)  0          ['batch_normalization_58[0][0]'] \n",
      " ropout2D)                                                                                        \n",
      "                                                                                                  \n",
      " conv2d_62 (Conv2D)             (None, 64, 64, 128)  147456      ['spatial_dropout2d_17[0][0]']   \n",
      "                                                                                                  \n",
      " batch_normalization_59 (BatchN  (None, 64, 64, 128)  512        ['conv2d_62[0][0]']              \n",
      " ormalization)                                                                                    \n",
      "                                                                                                  \n",
      " max_pooling2d_14 (MaxPooling2D  (None, 32, 32, 128)  0          ['batch_normalization_59[0][0]'] \n",
      " )                                                                                                \n",
      "                                                                                                  \n",
      " conv2d_63 (Conv2D)             (None, 32, 32, 256)  294912      ['max_pooling2d_14[0][0]']       \n",
      "                                                                                                  \n",
      " batch_normalization_60 (BatchN  (None, 32, 32, 256)  1024       ['conv2d_63[0][0]']              \n",
      " ormalization)                                                                                    \n",
      "                                                                                                  \n",
      " spatial_dropout2d_18 (SpatialD  (None, 32, 32, 256)  0          ['batch_normalization_60[0][0]'] \n",
      " ropout2D)                                                                                        \n",
      "                                                                                                  \n",
      " conv2d_64 (Conv2D)             (None, 32, 32, 256)  589824      ['spatial_dropout2d_18[0][0]']   \n",
      "                                                                                                  \n",
      " batch_normalization_61 (BatchN  (None, 32, 32, 256)  1024       ['conv2d_64[0][0]']              \n",
      " ormalization)                                                                                    \n",
      "                                                                                                  \n",
      " max_pooling2d_15 (MaxPooling2D  (None, 16, 16, 256)  0          ['batch_normalization_61[0][0]'] \n",
      " )                                                                                                \n",
      "                                                                                                  \n",
      " conv2d_65 (Conv2D)             (None, 16, 16, 512)  1179648     ['max_pooling2d_15[0][0]']       \n",
      "                                                                                                  \n",
      " batch_normalization_62 (BatchN  (None, 16, 16, 512)  2048       ['conv2d_65[0][0]']              \n",
      " ormalization)                                                                                    \n",
      "                                                                                                  \n",
      " spatial_dropout2d_19 (SpatialD  (None, 16, 16, 512)  0          ['batch_normalization_62[0][0]'] \n",
      " ropout2D)                                                                                        \n",
      "                                                                                                  \n",
      " conv2d_66 (Conv2D)             (None, 16, 16, 512)  2359296     ['spatial_dropout2d_19[0][0]']   \n",
      "                                                                                                  \n",
      " batch_normalization_63 (BatchN  (None, 16, 16, 512)  2048       ['conv2d_66[0][0]']              \n",
      " ormalization)                                                                                    \n",
      "                                                                                                  \n",
      " conv2d_transpose_12 (Conv2DTra  (None, 32, 32, 256)  524544     ['batch_normalization_63[0][0]'] \n",
      " nspose)                                                                                          \n",
      "                                                                                                  \n",
      " concatenate_12 (Concatenate)   (None, 32, 32, 512)  0           ['conv2d_transpose_12[0][0]',    \n",
      "                                                                  'batch_normalization_61[0][0]'] \n",
      "                                                                                                  \n",
      " conv2d_67 (Conv2D)             (None, 32, 32, 256)  1179648     ['concatenate_12[0][0]']         \n",
      "                                                                                                  \n",
      " batch_normalization_64 (BatchN  (None, 32, 32, 256)  1024       ['conv2d_67[0][0]']              \n",
      " ormalization)                                                                                    \n",
      "                                                                                                  \n",
      " conv2d_68 (Conv2D)             (None, 32, 32, 256)  589824      ['batch_normalization_64[0][0]'] \n",
      "                                                                                                  \n",
      " batch_normalization_65 (BatchN  (None, 32, 32, 256)  1024       ['conv2d_68[0][0]']              \n",
      " ormalization)                                                                                    \n",
      "                                                                                                  \n",
      " conv2d_transpose_13 (Conv2DTra  (None, 64, 64, 128)  131200     ['batch_normalization_65[0][0]'] \n",
      " nspose)                                                                                          \n",
      "                                                                                                  \n",
      " concatenate_13 (Concatenate)   (None, 64, 64, 256)  0           ['conv2d_transpose_13[0][0]',    \n",
      "                                                                  'batch_normalization_59[0][0]'] \n",
      "                                                                                                  \n",
      " conv2d_69 (Conv2D)             (None, 64, 64, 128)  294912      ['concatenate_13[0][0]']         \n",
      "                                                                                                  \n",
      " batch_normalization_66 (BatchN  (None, 64, 64, 128)  512        ['conv2d_69[0][0]']              \n",
      " ormalization)                                                                                    \n",
      "                                                                                                  \n",
      " conv2d_70 (Conv2D)             (None, 64, 64, 128)  147456      ['batch_normalization_66[0][0]'] \n",
      "                                                                                                  \n",
      " batch_normalization_67 (BatchN  (None, 64, 64, 128)  512        ['conv2d_70[0][0]']              \n",
      " ormalization)                                                                                    \n",
      "                                                                                                  \n",
      " conv2d_transpose_14 (Conv2DTra  (None, 128, 128, 64  32832      ['batch_normalization_67[0][0]'] \n",
      " nspose)                        )                                                                 \n",
      "                                                                                                  \n",
      " concatenate_14 (Concatenate)   (None, 128, 128, 12  0           ['conv2d_transpose_14[0][0]',    \n",
      "                                8)                                'batch_normalization_57[0][0]'] \n",
      "                                                                                                  \n",
      " conv2d_71 (Conv2D)             (None, 128, 128, 64  73728       ['concatenate_14[0][0]']         \n",
      "                                )                                                                 \n",
      "                                                                                                  \n",
      " batch_normalization_68 (BatchN  (None, 128, 128, 64  256        ['conv2d_71[0][0]']              \n",
      " ormalization)                  )                                                                 \n",
      "                                                                                                  \n",
      " conv2d_72 (Conv2D)             (None, 128, 128, 64  36864       ['batch_normalization_68[0][0]'] \n",
      "                                )                                                                 \n",
      "                                                                                                  \n",
      " batch_normalization_69 (BatchN  (None, 128, 128, 64  256        ['conv2d_72[0][0]']              \n",
      " ormalization)                  )                                                                 \n",
      "                                                                                                  \n",
      " conv2d_transpose_15 (Conv2DTra  (None, 256, 256, 32  8224       ['batch_normalization_69[0][0]'] \n",
      " nspose)                        )                                                                 \n",
      "                                                                                                  \n",
      " concatenate_15 (Concatenate)   (None, 256, 256, 64  0           ['conv2d_transpose_15[0][0]',    \n",
      "                                )                                 'batch_normalization_55[0][0]'] \n",
      "                                                                                                  \n",
      " conv2d_73 (Conv2D)             (None, 256, 256, 32  18432       ['concatenate_15[0][0]']         \n",
      "                                )                                                                 \n",
      "                                                                                                  \n",
      " batch_normalization_70 (BatchN  (None, 256, 256, 32  128        ['conv2d_73[0][0]']              \n",
      " ormalization)                  )                                                                 \n",
      "                                                                                                  \n",
      " conv2d_74 (Conv2D)             (None, 256, 256, 32  9216        ['batch_normalization_70[0][0]'] \n",
      "                                )                                                                 \n",
      "                                                                                                  \n",
      " batch_normalization_71 (BatchN  (None, 256, 256, 32  128        ['conv2d_74[0][0]']              \n",
      " ormalization)                  )                                                                 \n",
      "                                                                                                  \n",
      " conv2d_75 (Conv2D)             (None, 256, 256, 1)  33          ['batch_normalization_71[0][0]'] \n",
      "                                                                                                  \n",
      "==================================================================================================\n",
      "Total params: 7,768,353\n",
      "Trainable params: 7,762,465\n",
      "Non-trainable params: 5,888\n",
      "__________________________________________________________________________________________________\n"
     ]
    }
   ],
   "source": [
    "model.summary()"
   ]
  },
  {
   "cell_type": "code",
   "execution_count": 39,
   "metadata": {},
   "outputs": [],
   "source": [
    "from keras.optimizers import Adam, SGD\n",
    "from keras_unet.metrics import iou, iou_thresholded\n",
    "from tensorflow.keras.metrics import Recall, Precision\n",
    "from metrics import dice_loss, dice_coef, iou\n",
    "from tensorflow import keras\n",
    "\n",
    "loss = keras.losses.BinaryCrossentropy()\n",
    "model.compile(\n",
    "    optimizer=keras.optimizers.Adam(learning_rate=0.001),\n",
    "    loss=loss,\n",
    "    metrics=[\"accuracy\", dice_coef, iou, Recall(), Precision()],\n",
    ")"
   ]
  },
  {
   "cell_type": "code",
   "execution_count": 40,
   "metadata": {},
   "outputs": [],
   "source": [
    "##load model\n",
    "model_filename = 'segm_model_v3.h5'\n",
    "\n",
    "if(os.path.exists(model_filename)):\n",
    "    model.load_weights(model_filename)\n"
   ]
  },
  {
   "cell_type": "code",
   "execution_count": 41,
   "metadata": {},
   "outputs": [],
   "source": [
    "import tensorflow as tf\n",
    "\n",
    "##predict function\n",
    "def predict(data):\n",
    "    with tf.device(\"CPU\"): \n",
    "        result = model.predict(data)\n",
    "        \n",
    "    return result"
   ]
  },
  {
   "attachments": {},
   "cell_type": "markdown",
   "metadata": {},
   "source": [
    "## Prediction"
   ]
  },
  {
   "cell_type": "code",
   "execution_count": 42,
   "metadata": {},
   "outputs": [
    {
     "name": "stdout",
     "output_type": "stream",
     "text": [
      "2/2 [==============================] - 6s 2s/step\n"
     ]
    }
   ],
   "source": [
    "stare_AMD_w_others_pred = predict(stare_AMD_w_others_data)\n",
    "#stare_normal_pred = predict(stare_normal_data)\n",
    "#RFMiD_Pure_AMD_pred = predict(RFMiD_Pure_AMD_data)\n",
    "#RFMiD_AMD_w_others_pred = predict(RFMiD_AMD_w_others_data)\n",
    "#RFMiD_normal_pred = predict(RFMiD_normal_data)\n",
    "#ODIR_Pure_AMD_pred = predict(ODIR_Pure_AMD_data)\n",
    "#ODIR_AMD_w_others_pred = predict(ODIR_AMD_w_others_data)\n",
    "#ODIR_normal_pred = predict(ODIR_normal_data)"
   ]
  }
 ],
 "metadata": {
  "kernelspec": {
   "display_name": "base",
   "language": "python",
   "name": "python3"
  },
  "language_info": {
   "codemirror_mode": {
    "name": "ipython",
    "version": 3
   },
   "file_extension": ".py",
   "mimetype": "text/x-python",
   "name": "python",
   "nbconvert_exporter": "python",
   "pygments_lexer": "ipython3",
   "version": "3.9.12"
  },
  "orig_nbformat": 4
 },
 "nbformat": 4,
 "nbformat_minor": 2
}
